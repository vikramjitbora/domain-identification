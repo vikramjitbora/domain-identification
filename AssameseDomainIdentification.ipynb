{
 "cells": [
  {
   "cell_type": "code",
   "execution_count": 1,
   "id": "3c411935",
   "metadata": {},
   "outputs": [],
   "source": [
    "import pandas as pd\n",
    "import re"
   ]
  },
  {
   "cell_type": "code",
   "execution_count": 2,
   "id": "39da6e1c",
   "metadata": {},
   "outputs": [],
   "source": [
    "with open('Hindi Dataset/train/0.txt', encoding='utf-8') as file:\n",
    "    text = file.read()"
   ]
  },
  {
   "cell_type": "code",
   "execution_count": 3,
   "id": "2ca2603e",
   "metadata": {},
   "outputs": [
    {
     "data": {
      "text/plain": [
       "['चैनल एस एक बांग्ला टीवी चैनल है', ' यह एक मनोरंजन चैनल है', '']"
      ]
     },
     "execution_count": 3,
     "metadata": {},
     "output_type": "execute_result"
    }
   ],
   "source": [
    "sentences = re.split(r' *[।?!]', text)\n",
    "sentences = [sentence.replace('\\n','') for sentence in sentences]\n",
    "sentences"
   ]
  },
  {
   "cell_type": "code",
   "execution_count": 4,
   "id": "57d1b149",
   "metadata": {},
   "outputs": [],
   "source": [
    "# Pick 3 sentences to display\n",
    "NUM_SENT = 3\n",
    "\n",
    "if len(sentences) < NUM_SENT:\n",
    "    display = sentences\n",
    "else:\n",
    "    display = sentences[:NUM_SENT]"
   ]
  },
  {
   "cell_type": "code",
   "execution_count": 5,
   "id": "a44e80d8",
   "metadata": {},
   "outputs": [
    {
     "data": {
      "text/plain": [
       "'चैनल एस एक बांग्ला टीवी चैनल है। यह एक मनोरंजन चैनल है।'"
      ]
     },
     "execution_count": 5,
     "metadata": {},
     "output_type": "execute_result"
    }
   ],
   "source": [
    "display = '।'.join(sentences)\n",
    "display"
   ]
  },
  {
   "cell_type": "code",
   "execution_count": 6,
   "id": "4f7ff08d",
   "metadata": {},
   "outputs": [
    {
     "data": {
      "text/html": [
       "<div>\n",
       "<style scoped>\n",
       "    .dataframe tbody tr th:only-of-type {\n",
       "        vertical-align: middle;\n",
       "    }\n",
       "\n",
       "    .dataframe tbody tr th {\n",
       "        vertical-align: top;\n",
       "    }\n",
       "\n",
       "    .dataframe thead th {\n",
       "        text-align: right;\n",
       "    }\n",
       "</style>\n",
       "<table border=\"1\" class=\"dataframe\">\n",
       "  <thead>\n",
       "    <tr style=\"text-align: right;\">\n",
       "      <th></th>\n",
       "      <th>data</th>\n",
       "      <th>labels</th>\n",
       "    </tr>\n",
       "  </thead>\n",
       "  <tbody>\n",
       "    <tr>\n",
       "      <th>0</th>\n",
       "      <td>चैनल एस एक बांग्ला टीवी चैनल है। यह एक मनोरंजन...</td>\n",
       "      <td>Politics</td>\n",
       "    </tr>\n",
       "    <tr>\n",
       "      <th>1</th>\n",
       "      <td>अभिनव कदम हिन्दी की एक साहित्यिक पत्रिका है।  ...</td>\n",
       "      <td>India</td>\n",
       "    </tr>\n",
       "  </tbody>\n",
       "</table>\n",
       "</div>"
      ],
      "text/plain": [
       "                                                data    labels\n",
       "0  चैनल एस एक बांग्ला टीवी चैनल है। यह एक मनोरंजन...  Politics\n",
       "1  अभिनव कदम हिन्दी की एक साहित्यिक पत्रिका है।  ...     India"
      ]
     },
     "execution_count": 6,
     "metadata": {},
     "output_type": "execute_result"
    }
   ],
   "source": [
    "try:\n",
    "    df = pd.read_csv('data.csv')\n",
    "except:\n",
    "    print('Creating dataframe for the first time')\n",
    "    df = pd.DataFrame(columns=['data', 'labels'])\n",
    "df.head()"
   ]
  },
  {
   "cell_type": "code",
   "execution_count": 7,
   "id": "6796fb01",
   "metadata": {},
   "outputs": [
    {
     "data": {
      "text/plain": [
       "{'data': ['चैनल एस एक बांग्ला टीवी चैनल है। यह एक मनोरंजन चैनल है।'],\n",
       " 'labels': ['Society']}"
      ]
     },
     "execution_count": 7,
     "metadata": {},
     "output_type": "execute_result"
    }
   ],
   "source": [
    "new_row = {'data':[display], 'labels':['Society']}\n",
    "new_row"
   ]
  },
  {
   "cell_type": "code",
   "execution_count": 8,
   "id": "9f09fb7d",
   "metadata": {},
   "outputs": [
    {
     "data": {
      "text/html": [
       "<div>\n",
       "<style scoped>\n",
       "    .dataframe tbody tr th:only-of-type {\n",
       "        vertical-align: middle;\n",
       "    }\n",
       "\n",
       "    .dataframe tbody tr th {\n",
       "        vertical-align: top;\n",
       "    }\n",
       "\n",
       "    .dataframe thead th {\n",
       "        text-align: right;\n",
       "    }\n",
       "</style>\n",
       "<table border=\"1\" class=\"dataframe\">\n",
       "  <thead>\n",
       "    <tr style=\"text-align: right;\">\n",
       "      <th></th>\n",
       "      <th>data</th>\n",
       "      <th>labels</th>\n",
       "    </tr>\n",
       "  </thead>\n",
       "  <tbody>\n",
       "    <tr>\n",
       "      <th>0</th>\n",
       "      <td>चैनल एस एक बांग्ला टीवी चैनल है। यह एक मनोरंजन...</td>\n",
       "      <td>Politics</td>\n",
       "    </tr>\n",
       "    <tr>\n",
       "      <th>1</th>\n",
       "      <td>अभिनव कदम हिन्दी की एक साहित्यिक पत्रिका है।  ...</td>\n",
       "      <td>India</td>\n",
       "    </tr>\n",
       "    <tr>\n",
       "      <th>2</th>\n",
       "      <td>चैनल एस एक बांग्ला टीवी चैनल है। यह एक मनोरंजन...</td>\n",
       "      <td>Society</td>\n",
       "    </tr>\n",
       "  </tbody>\n",
       "</table>\n",
       "</div>"
      ],
      "text/plain": [
       "                                                data    labels\n",
       "0  चैनल एस एक बांग्ला टीवी चैनल है। यह एक मनोरंजन...  Politics\n",
       "1  अभिनव कदम हिन्दी की एक साहित्यिक पत्रिका है।  ...     India\n",
       "2  चैनल एस एक बांग्ला टीवी चैनल है। यह एक मनोरंजन...   Society"
      ]
     },
     "execution_count": 8,
     "metadata": {},
     "output_type": "execute_result"
    }
   ],
   "source": [
    "df = pd.concat([df,pd.DataFrame(new_row)], ignore_index=True)\n",
    "df"
   ]
  },
  {
   "cell_type": "code",
   "execution_count": 59,
   "id": "9838fe63",
   "metadata": {},
   "outputs": [],
   "source": [
    "df.to_csv('data.csv', index = False)"
   ]
  },
  {
   "cell_type": "code",
   "execution_count": 12,
   "id": "27a22037",
   "metadata": {},
   "outputs": [],
   "source": [
    "import glob\n",
    "ls = glob.glob('Hindi Dataset/train/*.txt')"
   ]
  },
  {
   "cell_type": "code",
   "execution_count": 13,
   "id": "2e0d805d",
   "metadata": {},
   "outputs": [
    {
     "data": {
      "text/plain": [
       "['Hindi Dataset/train/12.txt',\n",
       " 'Hindi Dataset/train/10.txt',\n",
       " 'Hindi Dataset/train/11.txt',\n",
       " 'Hindi Dataset/train/0.txt',\n",
       " 'Hindi Dataset/train/1.txt']"
      ]
     },
     "execution_count": 13,
     "metadata": {},
     "output_type": "execute_result"
    }
   ],
   "source": [
    "ls"
   ]
  },
  {
   "cell_type": "code",
   "execution_count": null,
   "id": "b616b163",
   "metadata": {},
   "outputs": [],
   "source": [
    "while True:\n",
    "    filepath = ls[i]"
   ]
  },
  {
   "cell_type": "code",
   "execution_count": null,
   "id": "c091f1a4",
   "metadata": {},
   "outputs": [],
   "source": []
  }
 ],
 "metadata": {
  "kernelspec": {
   "display_name": "Python 3 (ipykernel)",
   "language": "python",
   "name": "python3"
  },
  "language_info": {
   "codemirror_mode": {
    "name": "ipython",
    "version": 3
   },
   "file_extension": ".py",
   "mimetype": "text/x-python",
   "name": "python",
   "nbconvert_exporter": "python",
   "pygments_lexer": "ipython3",
   "version": "3.8.13"
  }
 },
 "nbformat": 4,
 "nbformat_minor": 5
}
